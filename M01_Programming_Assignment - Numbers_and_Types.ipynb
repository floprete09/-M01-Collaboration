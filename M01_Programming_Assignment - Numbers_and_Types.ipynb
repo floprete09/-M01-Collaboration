{
 "cells": [
  {
   "cell_type": "code",
   "execution_count": 1,
   "id": "45d3185e",
   "metadata": {},
   "outputs": [
    {
     "name": "stdout",
     "output_type": "stream",
     "text": [
      "Hello World\n"
     ]
    }
   ],
   "source": [
    "print(\"Hello World\")"
   ]
  },
  {
   "cell_type": "code",
   "execution_count": 3,
   "id": "4ca34d40",
   "metadata": {},
   "outputs": [
    {
     "data": {
      "text/plain": [
       "3600"
      ]
     },
     "execution_count": 3,
     "metadata": {},
     "output_type": "execute_result"
    }
   ],
   "source": [
    "60*60"
   ]
  },
  {
   "cell_type": "code",
   "execution_count": 4,
   "id": "ede04a16",
   "metadata": {},
   "outputs": [],
   "source": [
    "seconds_per_hour =3600"
   ]
  },
  {
   "cell_type": "code",
   "execution_count": 8,
   "id": "8af22918",
   "metadata": {},
   "outputs": [
    {
     "data": {
      "text/plain": [
       "86400"
      ]
     },
     "execution_count": 8,
     "metadata": {},
     "output_type": "execute_result"
    }
   ],
   "source": [
    "seconds_per_hour*24"
   ]
  },
  {
   "cell_type": "code",
   "execution_count": 9,
   "id": "3aa1198a",
   "metadata": {},
   "outputs": [
    {
     "data": {
      "text/plain": [
       "86400"
      ]
     },
     "execution_count": 9,
     "metadata": {},
     "output_type": "execute_result"
    }
   ],
   "source": [
    "seconds_per_day = seconds_per_hour*24\n",
    "seconds_per_day"
   ]
  },
  {
   "cell_type": "code",
   "execution_count": 10,
   "id": "9d0403cd",
   "metadata": {},
   "outputs": [
    {
     "data": {
      "text/plain": [
       "24.0"
      ]
     },
     "execution_count": 10,
     "metadata": {},
     "output_type": "execute_result"
    }
   ],
   "source": [
    "seconds_per_day/seconds_per_hour"
   ]
  },
  {
   "cell_type": "code",
   "execution_count": 11,
   "id": "6ec31d29",
   "metadata": {},
   "outputs": [
    {
     "data": {
      "text/plain": [
       "24"
      ]
     },
     "execution_count": 11,
     "metadata": {},
     "output_type": "execute_result"
    }
   ],
   "source": [
    "seconds_per_day//seconds_per_hour"
   ]
  },
  {
   "cell_type": "code",
   "execution_count": null,
   "id": "a51a39c8",
   "metadata": {},
   "outputs": [],
   "source": []
  }
 ],
 "metadata": {
  "kernelspec": {
   "display_name": "Python 3",
   "language": "python",
   "name": "python3"
  },
  "language_info": {
   "codemirror_mode": {
    "name": "ipython",
    "version": 3
   },
   "file_extension": ".py",
   "mimetype": "text/x-python",
   "name": "python",
   "nbconvert_exporter": "python",
   "pygments_lexer": "ipython3",
   "version": "3.6.8"
  }
 },
 "nbformat": 4,
 "nbformat_minor": 5
}
